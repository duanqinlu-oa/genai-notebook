{
 "cells": [
  {
   "attachments": {},
   "cell_type": "markdown",
   "metadata": {},
   "source": [
    "# BTDP Next GenAI Services Notebook\n",
    "\n",
    "## 🎯 Objectives\n",
    "\n",
    "The objective of this notebook is to have a first hand on the Next GenAI Services.\n",
    "\n",
    "You will learn how to use our `context` endpoint to see the information about your business context.\n",
    "\n",
    "## ⚙️ Setup\n",
    "\n",
    "- Go to your terminal \n",
    "- Run the script `00-init.sh`\n",
    "- Inside this notebook select the `genaiservices_kernel` kernel\n",
    "\n",
    "- Then identify yourself by executing the following command `! gcloud auth login`\n"
   ]
  },
  {
   "cell_type": "markdown",
   "metadata": {},
   "source": [
    "# Imagen 3 Image Editing\n",
    "\n",
    "<table align=\"left\">\n",
    "\n",
    "  </td>\n",
    "  <td style=\"text-align: center\">\n",
    "    <a href=\"https://console.cloud.google.com/vertex-ai/colab/import/https:%2F%2Fraw.githubusercontent.com%2Foa-datafactory-services%2Fbtdp-samples%2Fmaster%2Fbtdp-platform-services%2Fgenai-service%2F01-context-management.ipynb?token=GHSAT0AAAAAAC2C2LHLWVIFH73E3VUE57GY2CBUKHQ\">\n",
    "      <img width=\"32px\" src=\"https://lh3.googleusercontent.com/JmcxdQi-qOpctIvWKgPtrzZdJJK-J3sWE1RsfjZNwshCFgE_9fULcNpuXYTilIR2hjwN\" alt=\"Google Cloud Colab Enterprise logo\"><br> Run in Colab Enterprise\n",
    "    </a>\n",
    "  </td>\n",
    "</table>"
   ]
  },
  {
   "attachments": {},
   "cell_type": "markdown",
   "metadata": {},
   "source": [
    "### 📖 Importing the required libraries"
   ]
  },
  {
   "cell_type": "code",
   "execution_count": null,
   "metadata": {},
   "outputs": [],
   "source": [
    "import requests\n",
    "import os\n",
    "import json\n",
    "import pandas as pd\n",
    "from IPython import get_ipython"
   ]
  },
  {
   "attachments": {},
   "cell_type": "markdown",
   "metadata": {},
   "source": [
    "### ✏️ Setup the variables"
   ]
  },
  {
   "cell_type": "code",
   "execution_count": null,
   "metadata": {},
   "outputs": [],
   "source": [
    "# Set the APIGEE base url + contexts endpoint\n",
    "genaiconfig_base = \"https://api.loreal.net/global/it4it/btdp-genaiconfig/v1\"\n",
    "contexts_endpoint = f\"{genaiconfig_base}/contexts\"\n",
    "\n",
    "# Put your context_id provided by the GenAI Team!\n",
    "context_id = \"<YOUR_CONTEXT_ID_HERE>\"\n",
    "\n",
    "# Get your access token\n",
    "identity_token = get_ipython().getoutput('gcloud auth print-access-token')[0]\n",
    "\n",
    "# Put your access token as a header\n",
    "headers = {\n",
    "    \"Authorization\": f\"Bearer {identity_token}\"\n",
    "}"
   ]
  },
  {
   "attachments": {},
   "cell_type": "markdown",
   "metadata": {},
   "source": [
    "### 📋 List the context you have access to"
   ]
  },
  {
   "cell_type": "code",
   "execution_count": null,
   "metadata": {},
   "outputs": [],
   "source": [
    "response = requests.get(contexts_endpoint, headers=headers)\n",
    "data = response.json()\n",
    "\n",
    "df = pd.DataFrame(data)\n",
    "\n",
    "print(\"Context you are able to see\")\n",
    "df\n"
   ]
  },
  {
   "attachments": {},
   "cell_type": "markdown",
   "metadata": {},
   "source": [
    "### 🔎 See the Access control of a context"
   ]
  },
  {
   "cell_type": "code",
   "execution_count": null,
   "metadata": {},
   "outputs": [],
   "source": [
    "url = f\"{contexts_endpoint}/{context_id}\"\n",
    "\n",
    "response = requests.get(url, headers=headers)\n",
    "\n",
    "data = response.json()\n",
    "print(\"Admins\")\n",
    "display(data[\"access_control\"][\"admins\"])\n",
    "print(\"------\")\n",
    "print(\"Users\")\n",
    "display(data[\"access_control\"][\"users\"])\n",
    "print(\"------\")\n",
    "print(\"OAPass\")\n",
    "display(data[\"oapass\"])\n"
   ]
  },
  {
   "cell_type": "markdown",
   "metadata": {},
   "source": [
    "## 👀 See your context details"
   ]
  },
  {
   "cell_type": "code",
   "execution_count": null,
   "metadata": {},
   "outputs": [],
   "source": [
    "url = f\"{contexts_endpoint}/{context_id}\"\n",
    "\n",
    "response = requests.get(url, headers=headers)\n",
    "\n",
    "data = response.json()\n",
    "\n",
    "print(\"Name\")\n",
    "display(data[\"name\"])\n",
    "print(\"------\")\n",
    "print(\"Short_desc\")\n",
    "display(data[\"short_desc\"])\n",
    "print(\"------\")\n",
    "print(\"Long_desc\")\n",
    "display(data[\"long_desc\"])\n",
    "print(\"------\")\n",
    "print(\"Links\")\n",
    "display(data[\"links\"])\n",
    "print(\"------\")\n",
    "print(\"Disclaimer\")\n",
    "display(data[\"disclaimer\"])\n",
    "print(\"------\")\n",
    "print(\"Contact\")\n",
    "display(data[\"contact\"])"
   ]
  },
  {
   "cell_type": "markdown",
   "metadata": {},
   "source": [
    "## ✍️ Edit your context"
   ]
  },
  {
   "cell_type": "markdown",
   "metadata": {},
   "source": [
    "🚨 Be aware that you are overwriting all these fields. So be careful before running the next cell\n",
    "\n",
    "As a context admin you are able to modify some fields:\n",
    "\n",
    "- name\n",
    "- short_desc\n",
    "- long_desc\n",
    "- links\n",
    "    - how_to_use\n",
    "    - feedbacks\n",
    "- disclaimer\n",
    "    - en\n",
    "    - fr\n",
    "- contact (list of max 2 mails)"
   ]
  },
  {
   "cell_type": "code",
   "execution_count": null,
   "metadata": {},
   "outputs": [],
   "source": [
    "to_update = {\n",
    "    \"name\": \"Your companion name\", # <-- Be careful every user of your companion can see that\n",
    "    \"short_desc\": \"Your short description\", # <-- Be careful every user of your companion can see that\n",
    "    \"long_desc\": \"Your long description\", # <-- Be careful every user of your companion can see that\n",
    "    \"links\": {\n",
    "        \"how_to_use\": \"https://...\", # <-- Optional: You can put the link you want (displayed in the details, below the long description)\n",
    "        \"feedbacks\": \"https://...\"\n",
    "    },\n",
    "    \"disclaimer\": {\n",
    "        \"en\": \"Disclaimer in english\", # <-- Optional: Disclaimer, showed below the prompt bar in L'orealGPT\n",
    "        \"fr\": \"Disclaimer in french\"\n",
    "    },\n",
    "    \"contact\": [    # <-- Optional: The contact, if you don't want to put one just delete these 3 lines\n",
    "        \"my_email@loreal.com\",\n",
    "        \"my_colleague_mail@loreal.com\"\n",
    "    ]\n",
    "}\n",
    "\n",
    "response = requests.put(\n",
    "    f\"{contexts_endpoint}/{context_id}/details\",\n",
    "    headers=headers,\n",
    "    json=to_update\n",
    ")\n",
    "\n",
    "data = response.json()\n",
    "print(\"New name\")\n",
    "display(data[\"name\"])\n",
    "print(\"------\")\n",
    "print(\"New short_desc\")\n",
    "display(data[\"short_desc\"])\n",
    "print(\"------\")\n",
    "print(\"New long_desc\")\n",
    "display(data[\"long_desc\"])\n",
    "print(\"------\")\n",
    "print(\"New links\")\n",
    "display(data[\"links\"])\n",
    "print(\"------\")\n",
    "print(\"New disclaimer\")\n",
    "display(data[\"disclaimer\"])\n",
    "print(\"------\")\n",
    "print(\"New contact\")\n",
    "display(data[\"contact\"])\n",
    "\n"
   ]
  },
  {
   "cell_type": "markdown",
   "metadata": {},
   "source": [
    "### Update the Access user or group based"
   ]
  },
  {
   "cell_type": "code",
   "execution_count": null,
   "metadata": {},
   "outputs": [],
   "source": [
    "## BE CARREFULL\n",
    "## It's not happend mode ! It overwrites the access so you have to put all the previous members into the group !\n",
    "data = {\n",
    "\"access_control\":\n",
    "{'admins': [\n",
    "    # It can be one or many users\n",
    "    #{\"name\":\"thomas.menard@loreal.com\", \"principal_type\":\"user\"},\n",
    "\n",
    "    # It can be also one or many groups\n",
    "    #{\"name\":\"antoine.castex@loreal.com\", \"principal_type\":\"group\"},\n",
    "            ],\n",
    " 'users': [\n",
    "    # It can be one or many users\n",
    "    #{\"name\":\"thomas.menard@loreal.com\", \"principal_type\":\"user\"},\n",
    "\n",
    "    # It can be also one or many groups\n",
    "    #{\"name\":\"antoine.castex@loreal.com\", \"principal_type\":\"group\"},\n",
    "  ]}\n",
    "\n",
    "\n",
    "}\n",
    "response = requests.patch(\n",
    "    f\"{contexts_endpoint}/{context_id}\",\n",
    "    headers=headers,\n",
    "    json=data\n",
    ")\n",
    "\n",
    "data = response.json()\n",
    "print(\"New Admins\")\n",
    "display(data[\"access_control\"][\"admins\"])\n",
    "print(\"------\")\n",
    "print(\"New Users\")\n",
    "display(data[\"access_control\"][\"users\"])\n",
    "print(\"------\")\n",
    "print(\"OAPass\")\n",
    "display(data[\"oapass\"])"
   ]
  },
  {
   "cell_type": "markdown",
   "metadata": {},
   "source": [
    "### Update the Access using OAPASS\n",
    "- It's possible to use `Country` / `Entity` / `Contract Type` / `Job_Function_level1` to grant the access to a companion"
   ]
  },
  {
   "cell_type": "code",
   "execution_count": null,
   "metadata": {},
   "outputs": [],
   "source": [
    "#Example of the kind of rule you can apply :\n",
    "#  job_function_level1 in (\"Campus\",\"Corporate Responsibility\",\"EHS & Facilities\")\n",
    "#  or entity in (\"R&I N.A.\",\"R&I RAD\",\"R&I USA\",\"R&I China\")\n",
    "#  or country in (\"France\") and contract_type in (\"LongTerm Contract\")\n",
    "\n",
    "data = {\n",
    "    \"oapass\":\"country in (\\\"Australia\\\",\\\"New Zealand\\\")\",\n",
    "}\n",
    "\n",
    "response = requests.patch(\n",
    "    f\"{contexts_endpoint}/{context_id}\",\n",
    "    headers=headers,\n",
    "    json=data\n",
    ")\n",
    "\n",
    "data = response.json()\n",
    "print(\"New Admins\")\n",
    "display(data[\"access_control\"][\"admins\"])\n",
    "print(\"------\")\n",
    "print(\"New Users\")\n",
    "display(data[\"access_control\"][\"users\"])\n",
    "print(\"------\")\n",
    "print(\"OAPass\")\n",
    "display(data[\"oapass\"])"
   ]
  },
  {
   "cell_type": "markdown",
   "metadata": {},
   "source": [
    "### Updating the name of the companion and the descriptions"
   ]
  },
  {
   "cell_type": "code",
   "execution_count": null,
   "metadata": {},
   "outputs": [],
   "source": [
    "data = {\n",
    "    \"name\":\"-IT- Market research brief coach\",\n",
    "    # Short desc is 100 chars max\"\n",
    "    \"short_desc\":\"Guides the marketer write a sharp and effective market research brief from scratch.\",\n",
    "    # Long desc is 1000 chars max\"\n",
    "    \"long_desc\":\"\"\"The market research brief coach guides the marketer write a sharp and effective market research brief from scratch.\n",
    "\"\"\"\n",
    "}\n",
    "\n",
    "response = requests.patch(\n",
    "    f\"{contexts_endpoint}/{context_id}\",\n",
    "    headers=headers,\n",
    "    json=data\n",
    ")\n",
    "\n",
    "data = response.json()\n",
    "print(\"New name\")\n",
    "display(data[\"name\"])\n",
    "print(\"------\")\n",
    "print(\"New short_desc\")\n",
    "display(data[\"short_desc\"])\n",
    "print(\"------\")\n",
    "print(\"New long_desc\")\n",
    "display(data[\"long_desc\"])"
   ]
  }
 ],
 "metadata": {
  "kernelspec": {
   "display_name": ".venv",
   "language": "python",
   "name": "python3"
  },
  "language_info": {
   "codemirror_mode": {
    "name": "ipython",
    "version": 3
   },
   "file_extension": ".py",
   "mimetype": "text/x-python",
   "name": "python",
   "nbconvert_exporter": "python",
   "pygments_lexer": "ipython3",
   "version": "3.11.10"
  },
  "orig_nbformat": 4
 },
 "nbformat": 4,
 "nbformat_minor": 2
}
